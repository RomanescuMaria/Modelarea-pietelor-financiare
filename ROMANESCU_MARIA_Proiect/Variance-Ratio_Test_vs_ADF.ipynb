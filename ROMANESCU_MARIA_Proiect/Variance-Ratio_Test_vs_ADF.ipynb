{
 "cells": [
  {
   "cell_type": "code",
   "execution_count": 41,
   "metadata": {},
   "outputs": [],
   "source": [
    "#Variance-Ratio_Test_vs_ADF"
   ]
  },
  {
   "cell_type": "code",
   "execution_count": 42,
   "metadata": {},
   "outputs": [],
   "source": [
    "import yfinance as yf\n",
    "import dautil as dl\n",
    "import numpy as np\n",
    "import pandas as pd\n",
    "import pylab\n",
    "import ipywidgets\n",
    "import matplotlib.pyplot as plt\n",
    "\n",
    "#define the ticker symbol\n",
    "tickerSymbol = 'TSLA'\n",
    "\n",
    "#get data on this ticker\n",
    "tickerData = yf.Ticker(tickerSymbol)\n",
    "\n",
    "#get the historical prices for this ticker\n",
    "df = tickerData.history(period='1d', start='2010-06-29', end='2021-1-27')\n"
   ]
  },
  {
   "cell_type": "code",
   "execution_count": 43,
   "metadata": {},
   "outputs": [],
   "source": [
    "import quandl \n",
    "df = tickerData.history(period='1d', start='2019-7-1', end='2020-7-1')\n",
    "df_1 = df['Close']\n"
   ]
  },
  {
   "cell_type": "code",
   "execution_count": 44,
   "metadata": {},
   "outputs": [
    {
     "name": "stdout",
     "output_type": "stream",
     "text": [
      "     Variance-Ratio Test Results     \n",
      "=====================================\n",
      "Test Statistic                  0.760\n",
      "P-value                         0.447\n",
      "Lags                               16\n",
      "-------------------------------------\n",
      "\n",
      "Computed with overlapping blocks (de-biased)\n"
     ]
    }
   ],
   "source": [
    "from arch.unitroot import VarianceRatio\n",
    "vr = VarianceRatio(df_1, 16)\n",
    "print(vr.summary().as_text())"
   ]
  },
  {
   "cell_type": "code",
   "execution_count": 45,
   "metadata": {},
   "outputs": [
    {
     "name": "stdout",
     "output_type": "stream",
     "text": [
      "   Augmented Dickey-Fuller Results   \n",
      "=====================================\n",
      "Test Statistic                  0.196\n",
      "P-value                         0.972\n",
      "Lags                                0\n",
      "-------------------------------------\n",
      "\n",
      "Trend: Constant\n",
      "Critical Values: -3.46 (1%), -2.87 (5%), -2.57 (10%)\n",
      "Null Hypothesis: The process contains a unit root.\n",
      "Alternative Hypothesis: The process is weakly stationary.\n"
     ]
    }
   ],
   "source": [
    "from arch.unitroot import ADF\n",
    "\n",
    "adf = ADF(df_1)\n",
    "print(adf.summary().as_text())"
   ]
  },
  {
   "cell_type": "code",
   "execution_count": null,
   "metadata": {},
   "outputs": [],
   "source": []
  }
 ],
 "metadata": {
  "kernelspec": {
   "display_name": "Python 3",
   "language": "python",
   "name": "python3"
  },
  "language_info": {
   "codemirror_mode": {
    "name": "ipython",
    "version": 3
   },
   "file_extension": ".py",
   "mimetype": "text/x-python",
   "name": "python",
   "nbconvert_exporter": "python",
   "pygments_lexer": "ipython3",
   "version": "3.8.3"
  }
 },
 "nbformat": 4,
 "nbformat_minor": 4
}
